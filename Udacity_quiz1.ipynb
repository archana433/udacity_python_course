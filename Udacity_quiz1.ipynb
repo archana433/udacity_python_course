{
  "nbformat": 4,
  "nbformat_minor": 0,
  "metadata": {
    "colab": {
      "provenance": [],
      "authorship_tag": "ABX9TyM4lzb4dWXMYOsG8v4GgAMr",
      "include_colab_link": true
    },
    "kernelspec": {
      "name": "python3",
      "display_name": "Python 3"
    },
    "language_info": {
      "name": "python"
    }
  },
  "cells": [
    {
      "cell_type": "markdown",
      "metadata": {
        "id": "view-in-github",
        "colab_type": "text"
      },
      "source": [
        "<a href=\"https://colab.research.google.com/github/archana433/udacity_python_course/blob/main/Udacity_quiz1.ipynb\" target=\"_parent\"><img src=\"https://colab.research.google.com/assets/colab-badge.svg\" alt=\"Open In Colab\"/></a>"
      ]
    },
    {
      "cell_type": "code",
      "execution_count": 3,
      "metadata": {
        "colab": {
          "base_uri": "https://localhost:8080/"
        },
        "id": "7pKFjPtefdIc",
        "outputId": "d10a56e7-9616-45c3-e1c8-3bc5ad45b384"
      },
      "outputs": [
        {
          "output_type": "stream",
          "name": "stdout",
          "text": [
            "The eruption of the volcano Eyjafjallajokull in 2010 disrupted air travel in Europe for 6 days.\n"
          ]
        }
      ],
      "source": [
        "# Example 1\n",
        "marker = \"AFK\"\n",
        "replacement = \"away from keyboard\"\n",
        "line = \"I will now go to sleep and be AFK until lunch time tomorrow.\"\n",
        "\n",
        "# Example 2 # uncomment this to test with different input\n",
        "marker = \"EY\"\n",
        "replacement = \"Eyjafjallajokull\"\n",
        "line = \"The eruption of the volcano EY in 2010 disrupted air travel in Europe for 6 days.\"\n",
        "\n",
        "###\n",
        "# YOUR CODE BELOW. DO NOT DELETE THIS LINE\n",
        "###\n",
        "markerPosition = line.find(marker)\n",
        "markerLength = len(marker)\n",
        "\n",
        "replaced = line[:markerPosition] + replacement + line[(markerPosition + markerLength):]\n",
        "\n",
        "print (replaced)"
      ]
    }
  ]
}